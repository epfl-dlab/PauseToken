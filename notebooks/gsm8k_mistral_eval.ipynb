{
 "cells": [
  {
   "cell_type": "code",
   "id": "initial_id",
   "metadata": {
    "collapsed": true,
    "ExecuteTime": {
     "end_time": "2024-04-11T09:02:15.676883Z",
     "start_time": "2024-04-11T09:02:15.673441Z"
    }
   },
   "source": [
    "import sys\n",
    "sys.path.append(\"./../\")\n",
    "from evaluation.gsm8k import judge\n",
    "import json\n",
    "from thirdparty.openai.grade_school_math.dataset import read_jsonl\n",
    "import numpy as np"
   ],
   "outputs": [],
   "execution_count": 23
  },
  {
   "metadata": {
    "ExecuteTime": {
     "end_time": "2024-04-11T09:08:00.229124Z",
     "start_time": "2024-04-11T09:08:00.217586Z"
    }
   },
   "cell_type": "code",
   "source": "reference = read_jsonl(\"./../data/gsm8k/test.json\")",
   "id": "efdc23007fde6037",
   "outputs": [],
   "execution_count": 34
  },
  {
   "metadata": {
    "ExecuteTime": {
     "end_time": "2024-04-11T09:02:53.792474Z",
     "start_time": "2024-04-11T09:02:53.785554Z"
    }
   },
   "cell_type": "code",
   "source": [
    "with open(\"./../result/output_mistral_instruct_v2_sft_gsm8k.json\", \"r\") as f:\n",
    "    data = json.load(f)\n",
    "\n",
    "with open(\"./../result/outp.json\", \"r\") as f:\n",
    "    data_with_pause = json.load(f)\n",
    "    \n",
    "for entry in data:\n",
    "    entry[\"answer\"] = entry[\"output\"]"
   ],
   "id": "bceb41f774e894d8",
   "outputs": [],
   "execution_count": 29
  },
  {
   "metadata": {
    "ExecuteTime": {
     "end_time": "2024-04-11T09:02:54.491838Z",
     "start_time": "2024-04-11T09:02:54.479303Z"
    }
   },
   "cell_type": "code",
   "source": "",
   "id": "b9d6b3e84a568a0d",
   "outputs": [],
   "execution_count": 30
  },
  {
   "metadata": {
    "ExecuteTime": {
     "end_time": "2024-04-11T09:02:54.798212Z",
     "start_time": "2024-04-11T09:02:54.795997Z"
    }
   },
   "cell_type": "code",
   "source": "reference_crop = reference[:len(data)]",
   "id": "d0e83c6974bc738a",
   "outputs": [],
   "execution_count": 32
  },
  {
   "metadata": {
    "ExecuteTime": {
     "end_time": "2024-04-11T09:02:54.944343Z",
     "start_time": "2024-04-11T09:02:54.940915Z"
    }
   },
   "cell_type": "code",
   "source": "np.mean(judge(data, reference_crop))",
   "id": "3d1f4b68a52acd6d",
   "outputs": [
    {
     "data": {
      "text/plain": [
       "0.3564356435643564"
      ]
     },
     "execution_count": 33,
     "metadata": {},
     "output_type": "execute_result"
    }
   ],
   "execution_count": 33
  },
  {
   "metadata": {},
   "cell_type": "code",
   "outputs": [],
   "execution_count": null,
   "source": "",
   "id": "ddf9f828779233c8"
  }
 ],
 "metadata": {
  "kernelspec": {
   "display_name": "Python 3",
   "language": "python",
   "name": "python3"
  },
  "language_info": {
   "codemirror_mode": {
    "name": "ipython",
    "version": 2
   },
   "file_extension": ".py",
   "mimetype": "text/x-python",
   "name": "python",
   "nbconvert_exporter": "python",
   "pygments_lexer": "ipython2",
   "version": "2.7.6"
  }
 },
 "nbformat": 4,
 "nbformat_minor": 5
}
