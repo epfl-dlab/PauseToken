{
 "cells": [
  {
   "cell_type": "code",
   "execution_count": null,
   "id": "initial_id",
   "metadata": {
    "ExecuteTime": {
     "end_time": "2024-04-15T08:40:54.872840Z",
     "start_time": "2024-04-15T08:40:54.868858Z"
    },
    "collapsed": true
   },
   "outputs": [
    {
     "ename": "",
     "evalue": "",
     "output_type": "error",
     "traceback": [
      "\u001b[1;31mFailed to start the Kernel. \n",
      "View Jupyter <a href='command:jupyter.viewOutput'>log</a> for further details."
     ]
    }
   ],
   "source": [
    "import sys\n",
    "sys.path.append(\"./../\")\n",
    "from evaluation.gsm8k import judge\n",
    "import json\n",
    "from thirdparty.openai.grade_school_math.dataset import read_jsonl\n",
    "import numpy as np\n",
    "from scipy.stats import bootstrap"
   ]
  },
  {
   "cell_type": "code",
   "execution_count": 10,
   "id": "efdc23007fde6037",
   "metadata": {
    "ExecuteTime": {
     "end_time": "2024-04-15T08:40:54.882931Z",
     "start_time": "2024-04-15T08:40:54.875343Z"
    }
   },
   "outputs": [],
   "source": [
    "reference = read_jsonl(\"./../data/gsm8k/test.json\")"
   ]
  },
  {
   "cell_type": "code",
   "execution_count": 11,
   "id": "bceb41f774e894d8",
   "metadata": {
    "ExecuteTime": {
     "end_time": "2024-04-15T08:40:54.888245Z",
     "start_time": "2024-04-15T08:40:54.884464Z"
    }
   },
   "outputs": [],
   "source": [
    "names = [\"output_mistral_instruct_v2_sft_gsm8k.json\", \n",
    "         \"output_mistral_instruct_v2_pause_token_sft_gsm8k.json\",\n",
    "         \"output_mistral_instruct_v2_sft_gsm8k_updated_embedding_layer.json\"]\n",
    "\n",
    "name2data = {}\n",
    "for name in names:\n",
    "    with open(f\"./../result/{name}\", \"r\") as f:\n",
    "        data = json.load(f)\n",
    "        \n",
    "    for entry in data:\n",
    "        entry[\"answer\"] = entry[\"output\"]\n",
    "    name2data[name] = data"
   ]
  },
  {
   "cell_type": "code",
   "execution_count": 12,
   "id": "3d1f4b68a52acd6d",
   "metadata": {
    "ExecuteTime": {
     "end_time": "2024-04-15T08:40:54.924349Z",
     "start_time": "2024-04-15T08:40:54.888958Z"
    }
   },
   "outputs": [
    {
     "name": "stdout",
     "output_type": "stream",
     "text": [
      "output_mistral_instruct_v2_sft_gsm8k.json: 0.3564356435643564, ConfidenceInterval(low=0.26732673267326734, high=0.45544554455445546)\n",
      "output_mistral_instruct_v2_pause_token_sft_gsm8k.json: 0.42574257425742573, ConfidenceInterval(low=0.33663366336633666, high=0.5247524752475248)\n",
      "output_mistral_instruct_v2_sft_gsm8k_updated_embedding_layer.json: 0.40594059405940597, ConfidenceInterval(low=0.31683168316831684, high=0.504950495049505)\n"
     ]
    }
   ],
   "source": [
    "for name, data in name2data.items():\n",
    "    \n",
    "    reference_crop = reference[:len(data)]\n",
    "    results = judge(data, reference_crop)\n",
    "    \n",
    "    results = np.array(results).reshape((1,-1))\n",
    "    \n",
    "    ci = bootstrap(results, np.mean).confidence_interval\n",
    "    \n",
    "    print(f\"{name}: {np.mean(results)}, {ci}\")\n"
   ]
  }
 ],
 "metadata": {
  "kernelspec": {
   "display_name": "Python 3 (ipykernel)",
   "language": "python",
   "name": "python3"
  }
 },
 "nbformat": 4,
 "nbformat_minor": 5
}
