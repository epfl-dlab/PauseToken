{
 "cells": [
  {
   "cell_type": "code",
   "id": "initial_id",
   "metadata": {
    "collapsed": true,
    "ExecuteTime": {
     "end_time": "2024-04-15T08:40:54.872840Z",
     "start_time": "2024-04-15T08:40:54.868858Z"
    }
   },
   "source": [
    "import sys\n",
    "sys.path.append(\"./../\")\n",
    "from evaluation.gsm8k import judge\n",
    "import json\n",
    "from thirdparty.openai.grade_school_math.dataset import read_jsonl\n",
    "import numpy as np\n",
    "from scipy.stats import bootstrap"
   ],
   "outputs": [],
   "execution_count": 9
  },
  {
   "metadata": {
    "ExecuteTime": {
     "end_time": "2024-04-15T08:40:54.882931Z",
     "start_time": "2024-04-15T08:40:54.875343Z"
    }
   },
   "cell_type": "code",
   "source": "reference = read_jsonl(\"./../data/gsm8k/test.json\")",
   "id": "efdc23007fde6037",
   "outputs": [],
   "execution_count": 10
  },
  {
   "metadata": {
    "ExecuteTime": {
     "end_time": "2024-04-15T08:40:54.888245Z",
     "start_time": "2024-04-15T08:40:54.884464Z"
    }
   },
   "cell_type": "code",
   "source": [
    "names = [\"output_mistral_instruct_v2_sft_gsm8k.json\", \n",
    "         \"output_mistral_instruct_v2_pause_token_sft_gsm8k.json\",\n",
    "         \"output_mistral_instruct_v2_sft_gsm8k_updated_embedding_layer.json\"]\n",
    "\n",
    "name2data = {}\n",
    "for name in names:\n",
    "    with open(f\"./../result/{name}\", \"r\") as f:\n",
    "        data = json.load(f)\n",
    "        \n",
    "    for entry in data:\n",
    "        entry[\"answer\"] = entry[\"output\"]\n",
    "    name2data[name] = data"
   ],
   "id": "bceb41f774e894d8",
   "outputs": [],
   "execution_count": 11
  },
  {
   "metadata": {
    "ExecuteTime": {
     "end_time": "2024-04-15T08:40:54.924349Z",
     "start_time": "2024-04-15T08:40:54.888958Z"
    }
   },
   "cell_type": "code",
   "source": [
    "for name, data in name2data.items():\n",
    "    \n",
    "    reference_crop = reference[:len(data)]\n",
    "    results = judge(data, reference_crop)\n",
    "    \n",
    "    results = np.array(results).reshape((1,-1))\n",
    "    \n",
    "    ci = bootstrap(results, np.mean).confidence_interval\n",
    "    \n",
    "    print(f\"{name}: {np.mean(results)}, {ci}\")\n"
   ],
   "id": "3d1f4b68a52acd6d",
   "outputs": [
    {
     "name": "stdout",
     "output_type": "stream",
     "text": [
      "output_mistral_instruct_v2_sft_gsm8k.json: 0.3564356435643564, ConfidenceInterval(low=0.26732673267326734, high=0.45544554455445546)\n",
      "output_mistral_instruct_v2_pause_token_sft_gsm8k.json: 0.42574257425742573, ConfidenceInterval(low=0.33663366336633666, high=0.5247524752475248)\n",
      "output_mistral_instruct_v2_sft_gsm8k_updated_embedding_layer.json: 0.40594059405940597, ConfidenceInterval(low=0.31683168316831684, high=0.504950495049505)\n"
     ]
    }
   ],
   "execution_count": 12
  }
 ],
 "metadata": {
  "kernelspec": {
   "display_name": "Python 3",
   "language": "python",
   "name": "python3"
  },
  "language_info": {
   "codemirror_mode": {
    "name": "ipython",
    "version": 2
   },
   "file_extension": ".py",
   "mimetype": "text/x-python",
   "name": "python",
   "nbconvert_exporter": "python",
   "pygments_lexer": "ipython2",
   "version": "2.7.6"
  }
 },
 "nbformat": 4,
 "nbformat_minor": 5
}
