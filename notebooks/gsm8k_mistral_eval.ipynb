{
 "cells": [
  {
   "cell_type": "code",
   "id": "initial_id",
   "metadata": {
    "collapsed": true,
    "ExecuteTime": {
     "end_time": "2024-04-11T10:03:14.974754Z",
     "start_time": "2024-04-11T10:03:14.971305Z"
    }
   },
   "source": [
    "import sys\n",
    "sys.path.append(\"./../\")\n",
    "from evaluation.gsm8k import judge\n",
    "import json\n",
    "from thirdparty.openai.grade_school_math.dataset import read_jsonl\n",
    "import numpy as np\n",
    "from scipy.stats import bootstrap"
   ],
   "outputs": [],
   "execution_count": 69
  },
  {
   "metadata": {
    "ExecuteTime": {
     "end_time": "2024-04-11T10:03:14.989695Z",
     "start_time": "2024-04-11T10:03:14.982405Z"
    }
   },
   "cell_type": "code",
   "source": "reference = read_jsonl(\"./../data/gsm8k/test.json\")",
   "id": "efdc23007fde6037",
   "outputs": [],
   "execution_count": 70
  },
  {
   "metadata": {
    "ExecuteTime": {
     "end_time": "2024-04-11T10:03:14.994269Z",
     "start_time": "2024-04-11T10:03:14.990874Z"
    }
   },
   "cell_type": "code",
   "source": [
    "with open(\"./../result/output_mistral_instruct_v2_sft_gsm8k.json\", \"r\") as f:\n",
    "    data = json.load(f)\n",
    "\n",
    "with open(\"./../result/output_mistral_instruct_v2_pause_token_sft_gsm8k.json\", \"r\") as f:\n",
    "    data_with_pause = json.load(f)\n",
    "    \n",
    "for entry in data:\n",
    "    entry[\"answer\"] = entry[\"output\"]\n",
    "\n",
    "for entry in data_with_pause:\n",
    "    entry[\"answer\"] = entry[\"output\"]"
   ],
   "id": "bceb41f774e894d8",
   "outputs": [],
   "execution_count": 71
  },
  {
   "metadata": {
    "ExecuteTime": {
     "end_time": "2024-04-11T10:03:14.996679Z",
     "start_time": "2024-04-11T10:03:14.994878Z"
    }
   },
   "cell_type": "code",
   "source": "reference_crop = reference[:len(data)]",
   "id": "d0e83c6974bc738a",
   "outputs": [],
   "execution_count": 72
  },
  {
   "metadata": {
    "ExecuteTime": {
     "end_time": "2024-04-11T10:03:15.024508Z",
     "start_time": "2024-04-11T10:03:14.998038Z"
    }
   },
   "cell_type": "code",
   "source": [
    "no_pause_results = judge(data, reference_crop)\n",
    "with_pause_results = judge(data_with_pause, reference_crop)\n",
    "\n",
    "no_pause_results = np.array(no_pause_results).reshape((1, -1))\n",
    "with_pause_results = np.array(with_pause_results).reshape((1, -1))\n",
    "\n",
    "no_pause_ci = bootstrap(no_pause_results, np.mean).confidence_interval\n",
    "with_pause_ci = bootstrap(with_pause_results, np.mean).confidence_interval\n",
    "\n",
    "print(f\"no pause: {np.mean(no_pause_results)}, {no_pause_ci}\")\n",
    "print(f\"with pause: {np.mean(with_pause_results)}, {with_pause_ci}\")\n"
   ],
   "id": "3d1f4b68a52acd6d",
   "outputs": [
    {
     "name": "stdout",
     "output_type": "stream",
     "text": [
      "no pause: 0.3564356435643564, ConfidenceInterval(low=0.26732673267326734, high=0.45544554455445546)\n",
      "with pause: 0.42574257425742573, ConfidenceInterval(low=0.33663366336633666, high=0.5247524752475248)\n"
     ]
    }
   ],
   "execution_count": 73
  },
  {
   "metadata": {
    "ExecuteTime": {
     "end_time": "2024-04-11T10:03:15.026548Z",
     "start_time": "2024-04-11T10:03:15.025270Z"
    }
   },
   "cell_type": "code",
   "source": "",
   "id": "ddf9f828779233c8",
   "outputs": [],
   "execution_count": 73
  },
  {
   "metadata": {
    "ExecuteTime": {
     "end_time": "2024-04-11T10:03:15.028256Z",
     "start_time": "2024-04-11T10:03:15.027164Z"
    }
   },
   "cell_type": "code",
   "source": "",
   "id": "6947f32e6ed53d5",
   "outputs": [],
   "execution_count": 73
  }
 ],
 "metadata": {
  "kernelspec": {
   "display_name": "Python 3",
   "language": "python",
   "name": "python3"
  },
  "language_info": {
   "codemirror_mode": {
    "name": "ipython",
    "version": 2
   },
   "file_extension": ".py",
   "mimetype": "text/x-python",
   "name": "python",
   "nbconvert_exporter": "python",
   "pygments_lexer": "ipython2",
   "version": "2.7.6"
  }
 },
 "nbformat": 4,
 "nbformat_minor": 5
}
