{
 "cells": [
  {
   "cell_type": "code",
   "id": "initial_id",
   "metadata": {
    "collapsed": true,
    "ExecuteTime": {
     "end_time": "2024-04-11T09:12:34.129226Z",
     "start_time": "2024-04-11T09:12:34.121883Z"
    }
   },
   "source": [
    "import sys\n",
    "sys.path.append(\"./../\")\n",
    "from evaluation.gsm8k import judge\n",
    "import json\n",
    "from thirdparty.openai.grade_school_math.dataset import read_jsonl\n",
    "import numpy as np"
   ],
   "outputs": [],
   "execution_count": 45
  },
  {
   "metadata": {
    "ExecuteTime": {
     "end_time": "2024-04-11T09:12:34.148467Z",
     "start_time": "2024-04-11T09:12:34.132196Z"
    }
   },
   "cell_type": "code",
   "source": "reference = read_jsonl(\"./../data/gsm8k/test.json\")",
   "id": "efdc23007fde6037",
   "outputs": [],
   "execution_count": 46
  },
  {
   "metadata": {
    "ExecuteTime": {
     "end_time": "2024-04-11T09:12:34.156831Z",
     "start_time": "2024-04-11T09:12:34.149568Z"
    }
   },
   "cell_type": "code",
   "source": [
    "with open(\"./../result/output_mistral_instruct_v2_sft_gsm8k.json\", \"r\") as f:\n",
    "    data = json.load(f)\n",
    "\n",
    "with open(\"./../result/output_mistral_instruct_v2_pause_token_sft_gsm8k.json\", \"r\") as f:\n",
    "    data_with_pause = json.load(f)\n",
    "    \n",
    "for entry in data:\n",
    "    entry[\"answer\"] = entry[\"output\"]\n",
    "\n",
    "for entry in data_with_pause:\n",
    "    entry[\"answer\"] = entry[\"output\"]"
   ],
   "id": "bceb41f774e894d8",
   "outputs": [],
   "execution_count": 47
  },
  {
   "metadata": {
    "ExecuteTime": {
     "end_time": "2024-04-11T09:12:34.159155Z",
     "start_time": "2024-04-11T09:12:34.157634Z"
    }
   },
   "cell_type": "code",
   "source": "",
   "id": "b9d6b3e84a568a0d",
   "outputs": [],
   "execution_count": 47
  },
  {
   "metadata": {
    "ExecuteTime": {
     "end_time": "2024-04-11T09:12:34.162793Z",
     "start_time": "2024-04-11T09:12:34.160859Z"
    }
   },
   "cell_type": "code",
   "source": "reference_crop = reference[:len(data)]",
   "id": "d0e83c6974bc738a",
   "outputs": [],
   "execution_count": 48
  },
  {
   "metadata": {
    "ExecuteTime": {
     "end_time": "2024-04-11T09:12:34.165848Z",
     "start_time": "2024-04-11T09:12:34.163444Z"
    }
   },
   "cell_type": "code",
   "source": [
    "no_pause = np.mean(judge(data, reference_crop))\n",
    "with_pause = np.mean(judge(data_with_pause, reference_crop))\n",
    "\n",
    "print(no_pause, with_pause)"
   ],
   "id": "3d1f4b68a52acd6d",
   "outputs": [
    {
     "name": "stdout",
     "output_type": "stream",
     "text": [
      "0.3564356435643564 0.42574257425742573\n"
     ]
    }
   ],
   "execution_count": 49
  },
  {
   "metadata": {
    "ExecuteTime": {
     "end_time": "2024-04-11T09:12:34.167480Z",
     "start_time": "2024-04-11T09:12:34.166394Z"
    }
   },
   "cell_type": "code",
   "source": "",
   "id": "ddf9f828779233c8",
   "outputs": [],
   "execution_count": 49
  }
 ],
 "metadata": {
  "kernelspec": {
   "display_name": "Python 3",
   "language": "python",
   "name": "python3"
  },
  "language_info": {
   "codemirror_mode": {
    "name": "ipython",
    "version": 2
   },
   "file_extension": ".py",
   "mimetype": "text/x-python",
   "name": "python",
   "nbconvert_exporter": "python",
   "pygments_lexer": "ipython2",
   "version": "2.7.6"
  }
 },
 "nbformat": 4,
 "nbformat_minor": 5
}
