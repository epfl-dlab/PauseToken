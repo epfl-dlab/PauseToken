{
 "cells": [
  {
   "cell_type": "code",
   "execution_count": null,
   "id": "initial_id",
   "metadata": {
    "ExecuteTime": {
     "end_time": "2024-04-15T08:40:54.872840Z",
     "start_time": "2024-04-15T08:40:54.868858Z"
    },
    "collapsed": true
   },
   "outputs": [],
   "source": [
    "!pip install editdistance"
   ]
  },
  {
   "cell_type": "code",
   "execution_count": 2,
   "id": "efdc23007fde6037",
   "metadata": {
    "ExecuteTime": {
     "end_time": "2024-04-15T08:40:54.882931Z",
     "start_time": "2024-04-15T08:40:54.875343Z"
    }
   },
   "outputs": [],
   "source": [
    "\n",
    "import sys\n",
    "sys.path.append(\"./../\")\n",
    "import json\n",
    "import numpy as np\n",
    "from scipy.stats import bootstrap\n",
    "import os\n",
    "import pandas as pd\n",
    "from IPython.display import display,HTML\n",
    "import editdistance\n",
    "import difflib\n",
    "# Define colors for each column\n",
    "colors = {\n",
    "    \"question\": \"#FFA500\",        # Orange\n",
    "    \"correct_answer\": \"#00A000\",  # Dark Green\n",
    "    \"incorrect_answer\": \"#CC3333\", # Dark Red\n",
    "    \"gt_answer\": \"#1E90FF\",        # Dodger Blue\n",
    "    \"edit_distance\": \"#BA55D3\"      # Medium Purple\n",
    "}\n",
    "\n",
    "# Apply the color styling\n",
    "def color_text(val, color):\n",
    "    return f'color: {color};'\n",
    "\n",
    "\n",
    "def render_html(val):\n",
    "    return val\n",
    "\n",
    "# Function to create HTML-styled diff\n",
    "def diff_html(a: str, b: str) -> str:\n",
    "    line_color = {\n",
    "        \"+\": \"background-color: #DFF0D8; color: green;\",  # Green for additions\n",
    "        \"-\": \"background-color: #F2DEDE; color: red;\"     # Red for deletions\n",
    "    }\n",
    "\n",
    "    diffs = difflib.ndiff(a.split(), b.split())\n",
    "    styled = []\n",
    "\n",
    "    for prev in diffs:\n",
    "        if prev.startswith(\" \"):  # No change\n",
    "            styled.append(prev[2:])  # Skip leading space\n",
    "        elif prev.startswith(\"+\"):  # Addition\n",
    "            styled.append(f'<span style=\"{line_color[\"+\"]}\">{prev[2:]}</span>')\n",
    "        elif prev.startswith(\"-\"):  # Deletion\n",
    "            styled.append(f'<span style=\"{line_color[\"-\"]}\">{prev[2:]}</span>')\n",
    "\n",
    "    return \"<br>\".join(styled)  # Join with line breaks for HTML display\n",
    "\n",
    "def style_dataframe(df, rename_columns, sort_by_edit_distance=True):\n",
    "    \n",
    "    max_width = 100\n",
    "    # Sort by edit distance if specified\n",
    "    if sort_by_edit_distance:\n",
    "        df = df.sort_values(by=[\"edit_distance\"], ascending=True)\n",
    "\n",
    "    # Apply HTML color styling directly to the DataFrame\n",
    "    for col in df.columns:\n",
    "        if col == \"question\":\n",
    "            df[col] = df[col].apply(lambda x: f'<span style=\"color: {colors[\"question\"]};\">{x}</span>')\n",
    "        elif col == \"correct_answer\":\n",
    "            df[col] = df[col].apply(lambda x: f'<span style=\"color: {colors[\"correct_answer\"]};\">{x}</span>')\n",
    "        elif col == \"incorrect_answer\":\n",
    "            df[col] = df[col].apply(lambda x: f'<span style=\"color: {colors[\"incorrect_answer\"]};\">{x}</span>')\n",
    "        elif col == \"gt_answer\":\n",
    "            df[col] = df[col].apply(lambda x: f'<span style=\"color: {colors[\"gt_answer\"]};\">{x}</span>')\n",
    "        elif col == \"edit_distance\":\n",
    "            df[col] = df[col].apply(lambda x: f'<span style=\"color: {colors[\"edit_distance\"]};\">{x}</span>')\n",
    "        elif col == \"git_diff_correct_incorrect\":\n",
    "            df[col] = df[col].apply(lambda x: f'<div style=\"text-align: left;\">{x}</div>')  # Align text to left\n",
    "\n",
    "    # Rename columns based on the provided mapping\n",
    "    df = df.rename(columns=rename_columns)\n",
    "    # Return the DataFrame as HTML\n",
    "    return df.to_html(escape=False, index=False, table_id=\"responsive_table\")\n",
    "\n",
    "# Use a style block to make the table responsive\n",
    "responsive_style = \"\"\"\n",
    "<style>\n",
    "    #responsive_table {\n",
    "        width: 100%;\n",
    "        table-layout: auto;  /* Allows the table to adjust column widths */\n",
    "    }\n",
    "</style>\n",
    "\"\"\""
   ]
  },
  {
   "cell_type": "code",
   "execution_count": 3,
   "id": "65b219a2",
   "metadata": {},
   "outputs": [],
   "source": [
    "\n",
    "names = [\"offline_star_exp/no_pause_peft_temp_1.0_part2\", \"offline_star_exp/pause_temp_1.0_part2\"]\n",
    "paths = [\"/dlabscratch1/baldwin/pause2/PauseToken/logs/train/runs/2024-11-05_14-18-49/test_results.json\" ,\"/dlabscratch1/baldwin/pause2/PauseToken/logs/train/runs/2024-11-05_08-30-36/test_results.json\"]"
   ]
  },
  {
   "cell_type": "code",
   "execution_count": 4,
   "id": "bceb41f774e894d8",
   "metadata": {
    "ExecuteTime": {
     "end_time": "2024-04-15T08:40:54.888245Z",
     "start_time": "2024-04-15T08:40:54.884464Z"
    }
   },
   "outputs": [],
   "source": [
    "# def clean(text):\n",
    "#     texts = text.split(\"####\")\n",
    "#     if len(texts) == 1:\n",
    "#         return text\n",
    "#     last_txt = \"#### \" + \"\".join(texts[-1].split(\" \"))\n",
    "#     return \"####\".join(texts[:-1]) + last_txt\n",
    "def strip_pause_tokens(text, pause_token=\"<|pause|>\"):\n",
    "    return text.replace(pause_token, \"\")\n",
    "\n",
    "name2data = {}\n",
    "for name,path in zip(names, paths):\n",
    "    with open(path, \"r\") as f:\n",
    "        data = json.load(f)\n",
    "        \n",
    "    # for entry in data:\n",
    "    #     if \"clean_output\" in entry:\n",
    "    #         entry[\"answer\"] = clean(entry[\"clean_output\"])\n",
    "    #     else:\n",
    "    #         entry[\"answer\"] = entry[\"output\"]\n",
    "    name2data[name] = data"
   ]
  },
  {
   "cell_type": "code",
   "execution_count": null,
   "id": "3d1f4b68a52acd6d",
   "metadata": {
    "ExecuteTime": {
     "end_time": "2024-04-15T08:40:54.924349Z",
     "start_time": "2024-04-15T08:40:54.888958Z"
    }
   },
   "outputs": [],
   "source": [
    "reses = []\n",
    "for name, data in name2data.items():\n",
    "    \n",
    "    results = [data[\"test/accuracy\"] for data in data]\n",
    "    \n",
    "    results = np.array(results).reshape((1,-1))\n",
    "    \n",
    "    ci = bootstrap(results, np.mean).confidence_interval\n",
    "        \n",
    "    reses.append((f\"{name}: {np.mean(results)}, {ci}, {len(data)} samples\", results))\n",
    "\n",
    "reses.sort(key= lambda x: x[1].mean(),reverse = True)\n",
    "for res,val in reses:\n",
    "    print(res)"
   ]
  },
  {
   "cell_type": "code",
   "execution_count": 6,
   "id": "7c78c3de",
   "metadata": {},
   "outputs": [],
   "source": [
    "df_pause_benefits = {}\n",
    "df_exclusives_pause = {} \n",
    "df_pause_detriment = {}\n",
    "df_exclusives_no_pause = {}"
   ]
  },
  {
   "cell_type": "code",
   "execution_count": null,
   "id": "09dece27",
   "metadata": {},
   "outputs": [],
   "source": [
    "def append_res_to_dict(df, question, correct_answer, incorrect_answer, gt_answer):\n",
    "    if \"question\" not in df:\n",
    "        df[\"question\"] = []\n",
    "    if \"correct_answer\" not in df:\n",
    "        df[\"correct_answer\"] = []\n",
    "    if \"incorrect_answer\" not in df:\n",
    "        df[\"incorrect_answer\"] = []\n",
    "    if \"gt_answer\" not in df:\n",
    "        df[\"gt_answer\"] = []\n",
    "    if \"edit_distance\" not in df:\n",
    "        df[\"edit_distance\"] = []\n",
    "    if \"git_diff_correct_incorrect\" not in df:\n",
    "        df[\"git_diff_correct_incorrect\"] = []\n",
    "        \n",
    "        \n",
    "    df[\"question\"].append(question)\n",
    "    df[\"correct_answer\"].append(correct_answer)\n",
    "    df[\"incorrect_answer\"].append(incorrect_answer)\n",
    "    df[\"gt_answer\"].append(gt_answer)\n",
    "    df[\"edit_distance\"].append(editdistance.eval(strip_pause_tokens(correct_answer), strip_pause_tokens(incorrect_answer)))\n",
    "    df[\"git_diff_correct_incorrect\"].append(diff_html(incorrect_answer, correct_answer))\n",
    "    \n",
    "ll_name2data = name2data\n",
    "name1 = \"offline_star_exp/pause_temp_1.0_part2\"\n",
    "name2 = \"offline_star_exp/no_pause_peft_temp_1.0_part2\"\n",
    "judge1 = [data[\"test/accuracy\"] for data in ll_name2data[name1]]\n",
    "judge2 = [data[\"test/accuracy\"] for data in ll_name2data[name2]]\n",
    "j1_c = 0\n",
    "j2_c = 0\n",
    "j1_c_pause_inserted = 0\n",
    "j2_c_pause_inserted = 0\n",
    "for index,(j1,j2) in enumerate(zip(judge1,judge2)):\n",
    "    if j1 and not j2:\n",
    "        j1_c +=1\n",
    "        append_res_to_dict(df_exclusives_pause, ll_name2data[name1][index][\"input\"], ll_name2data[name1][index][\"predicted_output\"], ll_name2data[name2][index][\"predicted_output\"], ll_name2data[name1][index][\"ground_truth\"])\n",
    "        if \"<|pause|>\" in ll_name2data[name1][index][\"predicted_output\"]:\n",
    "            append_res_to_dict(df_pause_benefits, ll_name2data[name1][index][\"input\"], ll_name2data[name1][index][\"predicted_output\"], ll_name2data[name2][index][\"predicted_output\"], ll_name2data[name1][index][\"ground_truth\"])\n",
    "            j1_c_pause_inserted += 1\n",
    "    if j2 and not j1:\n",
    "        j2_c += 1\n",
    "        append_res_to_dict(df_exclusives_no_pause, ll_name2data[name1][index][\"input\"], ll_name2data[name2][index][\"predicted_output\"], ll_name2data[name1][index][\"predicted_output\"], ll_name2data[name1][index][\"ground_truth\"])\n",
    "        if \"<|pause|>\" in ll_name2data[name1][index][\"predicted_output\"]:\n",
    "            append_res_to_dict(df_pause_detriment, ll_name2data[name1][index][\"input\"], ll_name2data[name2][index][\"predicted_output\"], ll_name2data[name1][index][\"predicted_output\"], ll_name2data[name1][index][\"ground_truth\"])\n",
    "            j2_c_pause_inserted += 1\n",
    "    \n",
    "print(name1, \"samples exculisively correct\", j1_c)\n",
    "print(name2, \"samples exculisively correct\", j2_c)\n",
    "print(name1, \"samples exculisively correct with pause inserted\", j1_c_pause_inserted)\n",
    "print(f\"samples correct with {name2} and not {name1} where pause is inserted\", j2_c_pause_inserted)"
   ]
  },
  {
   "cell_type": "markdown",
   "id": "6860e9d4",
   "metadata": {},
   "source": [
    "# All Samples Where Pause Model Predicted Correctly Using at Least One Pause Token and Non-Pause Model Predicted Incorrectly (sorted by edit distance)"
   ]
  },
  {
   "cell_type": "code",
   "execution_count": null,
   "id": "4c9e6710",
   "metadata": {},
   "outputs": [],
   "source": [
    "\n",
    "\n",
    "display(\n",
    "    HTML(\n",
    "        responsive_style +\n",
    "        style_dataframe(\n",
    "            pd.DataFrame(df_pause_benefits),\n",
    "            rename_columns = {\n",
    "                \"correct_answer\": \"correct answer from pause model\",\n",
    "                \"incorrect_answer\": \"incorrect answer from non pause model\",\n",
    "                \"edit_distance\": \"edit distance of incorrect answer w.r.t correct answer (excluding pause tokens)\"\n",
    "                }\n",
    "        )\n",
    "    )\n",
    ")"
   ]
  },
  {
   "cell_type": "markdown",
   "id": "cc367734",
   "metadata": {},
   "source": [
    "# All Samples Where Pause Model Predicted Incorrectly Using at Least One Pause Token and Non-Pause Model Predicted Correctly (sorted by edit distance)"
   ]
  },
  {
   "cell_type": "code",
   "execution_count": null,
   "id": "0b15cc09",
   "metadata": {},
   "outputs": [],
   "source": [
    "display(\n",
    "    HTML(\n",
    "        responsive_style +\n",
    "        style_dataframe(\n",
    "            pd.DataFrame(df_pause_detriment),\n",
    "            rename_columns = {\n",
    "                \"correct_answer\": \"correct answer from non pause model\",\n",
    "                \"incorrect_answer\": \"incorrect answer from pause model\",\n",
    "                \"edit_distance\": \"edit distance of incorrect answer w.r.t correct answer (excluding pause tokens)\"\n",
    "            }\n",
    "        )\n",
    "    )\n",
    ")"
   ]
  },
  {
   "cell_type": "markdown",
   "id": "efe262d6",
   "metadata": {},
   "source": [
    "# All Samples Where Pause Model Predicted Correctly and Non-Pause Model Predicted Incorrectly (sorted by edit distance)"
   ]
  },
  {
   "cell_type": "code",
   "execution_count": null,
   "id": "5d0b245b",
   "metadata": {},
   "outputs": [],
   "source": [
    "display(\n",
    "    HTML(\n",
    "        responsive_style +\n",
    "        style_dataframe(\n",
    "            pd.DataFrame(df_exclusives_pause),\n",
    "            {\"correct_answer\": \"correct answer from pause model\", \"incorrect_answer\": \"incorrect answer from non pause model\", \"edit_distance\": \"edit distance of incorrect answer w.r.t correct answer (excluding pause tokens)\"}\n",
    "        )\n",
    "    )\n",
    ")"
   ]
  },
  {
   "cell_type": "markdown",
   "id": "a548eac1",
   "metadata": {},
   "source": [
    "# All Samples Where Pause Model Predicted Incorrectly and Non-Pause Model Predicted Correctly (sorted by edit distance)"
   ]
  },
  {
   "cell_type": "code",
   "execution_count": null,
   "id": "a2d68539",
   "metadata": {},
   "outputs": [],
   "source": [
    "display(\n",
    "    HTML(\n",
    "        responsive_style +\n",
    "        style_dataframe(\n",
    "            pd.DataFrame(df_exclusives_no_pause),\n",
    "            {\"correct_answer\": \"correct answer from non pause model\", \"incorrect_answer\": \"incorrect answer from pause model\", \"edit_distance\": \"edit distance of incorrect answer w.r.t correct answer (excluding pause tokens)\"}\n",
    "        )\n",
    "    )\n",
    ")"
   ]
  },
  {
   "cell_type": "code",
   "execution_count": null,
   "id": "b04880e7",
   "metadata": {},
   "outputs": [],
   "source": []
  }
 ],
 "metadata": {
  "kernelspec": {
   "display_name": "Python 3 (ipykernel)",
   "language": "python",
   "name": "python3"
  },
  "language_info": {
   "codemirror_mode": {
    "name": "ipython",
    "version": 3
   },
   "file_extension": ".py",
   "mimetype": "text/x-python",
   "name": "python",
   "nbconvert_exporter": "python",
   "pygments_lexer": "ipython3",
   "version": "3.11.9"
  }
 },
 "nbformat": 4,
 "nbformat_minor": 5
}
