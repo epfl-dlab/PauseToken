{
 "cells": [
  {
   "cell_type": "code",
   "execution_count": 1,
   "metadata": {},
   "outputs": [],
   "source": [
    "from transformers import AutoTokenizer, AutoModelForCausalLM\n",
    "from typing import List\n",
    "import transformers\n",
    "from tokenizers import AddedToken\n",
    "import torch\n",
    "from torch import nn"
   ]
  },
  {
   "cell_type": "code",
   "execution_count": 2,
   "metadata": {},
   "outputs": [],
   "source": [
    "class LinearWrapper(nn.Module):\n",
    "    def __init__(self, layer: nn.Linear, num_embeddings: int):\n",
    "        super().__init__()\n",
    "        self.layer = layer\n",
    "        self.num_embeddings = num_embeddings\n",
    "        self.n_new_tokens = num_embeddings - layer.out_features\n",
    "        self.new_embeddings = nn.Linear(layer.in_features, self.n_new_tokens)\n",
    "        self.new_embeddings.to(layer.weight.device).to(layer.weight.dtype)\n",
    "    \n",
    "    def forward(self, x):\n",
    "        z1 = self.layer(x)\n",
    "        z2 = self.new_embeddings(x)\n",
    "        return torch.cat([z1, z2], dim=-1)\n",
    "\n",
    "class EmbeddingWrapper(nn.Module):\n",
    "    def __init__(self, embedding: nn.Embedding, num_embeddings: int):\n",
    "        super().__init__()\n",
    "        self.embedding_dim = embedding.embedding_dim\n",
    "        self.num_embeddings = num_embeddings\n",
    "        self.n_new_tokens = num_embeddings - embedding.num_embeddings\n",
    "        # inspired from here \n",
    "        # https://github.com/huggingface/transformers/blob/185463784e0a0b4cd7974ce5bded7a52ae170f6d/src/transformers/modeling_utils.py#L2026\n",
    "        self.old_embeddings = nn.Embedding(self.num_embeddings, self.embedding_dim)\n",
    "        self.old_embeddings.weight.data = torch.zeros_like(self.old_embeddings.weight.data)\n",
    "        self.old_embeddings.weight.data[:embedding.num_embeddings] = embedding.weight.data\n",
    "        self.old_embeddings.to(embedding.weight.device).to(embedding.weight.dtype)\n",
    "        self.new_embeddings = nn.Embedding(self.num_embeddings, self.embedding_dim)\n",
    "        self.new_embeddings.weight.data[:embedding.num_embeddings] = torch.zeros_like(embedding.weight.data)\n",
    "        self.new_embeddings.to(embedding.weight.device).to(embedding.weight.dtype)\n",
    "\n",
    "    \n",
    "    def forward(self, x):\n",
    "        return self.old_embeddings(x) + self.new_embeddings(x)"
   ]
  },
  {
   "cell_type": "code",
   "execution_count": 3,
   "metadata": {},
   "outputs": [
    {
     "data": {
      "application/vnd.jupyter.widget-view+json": {
       "model_id": "e9984744313b4348a00e63953398bab2",
       "version_major": 2,
       "version_minor": 0
      },
      "text/plain": [
       "Loading checkpoint shards:   0%|          | 0/2 [00:00<?, ?it/s]"
      ]
     },
     "metadata": {},
     "output_type": "display_data"
    }
   ],
   "source": [
    "model_name_or_path = '/dlabscratch1/public/llm_weights/llama2_hf/Llama-2-7b-hf/'\n",
    "# load model in torch.bfloat16\n",
    "model = AutoModelForCausalLM.from_pretrained(model_name_or_path, device_map='auto', torch_dtype=torch.float16)\n",
    "tokenizer = AutoTokenizer.from_pretrained(model_name_or_path)"
   ]
  },
  {
   "cell_type": "code",
   "execution_count": 4,
   "metadata": {},
   "outputs": [],
   "source": [
    "pause_token = AddedToken(\"<|pause|>\", \n",
    "                         single_word=False, \n",
    "                         lstrip=True, \n",
    "                         rstrip=True)\n",
    "                         #special=True, \n",
    "                         #normalized=False)"
   ]
  },
  {
   "cell_type": "code",
   "execution_count": 5,
   "metadata": {},
   "outputs": [
    {
     "name": "stdout",
     "output_type": "stream",
     "text": [
      "LlamaTokenizerFast(name_or_path='/dlabscratch1/public/llm_weights/llama2_hf/Llama-2-7b-hf/', vocab_size=32000, model_max_length=1000000000000000019884624838656, is_fast=True, padding_side='right', truncation_side='right', special_tokens={'bos_token': '<s>', 'eos_token': '</s>', 'unk_token': '<unk>'}, clean_up_tokenization_spaces=False),  added_tokens_decoder={\n",
      "\t0: AddedToken(\"<unk>\", rstrip=False, lstrip=False, single_word=False, normalized=False, special=True),\n",
      "\t1: AddedToken(\"<s>\", rstrip=False, lstrip=False, single_word=False, normalized=False, special=True),\n",
      "\t2: AddedToken(\"</s>\", rstrip=False, lstrip=False, single_word=False, normalized=False, special=True),\n",
      "\t32000: AddedToken(\"<|pause|>\", rstrip=True, lstrip=True, single_word=False, normalized=False, special=True),\n",
      "}\n",
      "32000\n"
     ]
    }
   ],
   "source": [
    "tokenizer.add_tokens([pause_token], special_tokens=True)\n",
    "print(tokenizer)\n",
    "# get idx of pause otken\n",
    "pause_token_id = tokenizer.convert_tokens_to_ids(\"<|pause|>\")\n",
    "print(pause_token_id)"
   ]
  },
  {
   "cell_type": "code",
   "execution_count": 6,
   "metadata": {},
   "outputs": [
    {
     "data": {
      "text/plain": [
       "LlamaForCausalLM(\n",
       "  (model): LlamaModel(\n",
       "    (embed_tokens): Embedding(32000, 4096)\n",
       "    (layers): ModuleList(\n",
       "      (0-31): 32 x LlamaDecoderLayer(\n",
       "        (self_attn): LlamaSdpaAttention(\n",
       "          (q_proj): Linear(in_features=4096, out_features=4096, bias=False)\n",
       "          (k_proj): Linear(in_features=4096, out_features=4096, bias=False)\n",
       "          (v_proj): Linear(in_features=4096, out_features=4096, bias=False)\n",
       "          (o_proj): Linear(in_features=4096, out_features=4096, bias=False)\n",
       "          (rotary_emb): LlamaRotaryEmbedding()\n",
       "        )\n",
       "        (mlp): LlamaMLP(\n",
       "          (gate_proj): Linear(in_features=4096, out_features=11008, bias=False)\n",
       "          (up_proj): Linear(in_features=4096, out_features=11008, bias=False)\n",
       "          (down_proj): Linear(in_features=11008, out_features=4096, bias=False)\n",
       "          (act_fn): SiLU()\n",
       "        )\n",
       "        (input_layernorm): LlamaRMSNorm()\n",
       "        (post_attention_layernorm): LlamaRMSNorm()\n",
       "      )\n",
       "    )\n",
       "    (norm): LlamaRMSNorm()\n",
       "  )\n",
       "  (lm_head): Linear(in_features=4096, out_features=32000, bias=False)\n",
       ")"
      ]
     },
     "execution_count": 6,
     "metadata": {},
     "output_type": "execute_result"
    }
   ],
   "source": [
    "model"
   ]
  },
  {
   "cell_type": "code",
   "execution_count": 7,
   "metadata": {},
   "outputs": [
    {
     "name": "stdout",
     "output_type": "stream",
     "text": [
      "LlamaForCausalLM(\n",
      "  (model): LlamaModel(\n",
      "    (embed_tokens): EmbeddingWrapper(\n",
      "      (old_embeddings): Embedding(32001, 4096)\n",
      "      (new_embeddings): Embedding(32001, 4096)\n",
      "    )\n",
      "    (layers): ModuleList(\n",
      "      (0-31): 32 x LlamaDecoderLayer(\n",
      "        (self_attn): LlamaSdpaAttention(\n",
      "          (q_proj): Linear(in_features=4096, out_features=4096, bias=False)\n",
      "          (k_proj): Linear(in_features=4096, out_features=4096, bias=False)\n",
      "          (v_proj): Linear(in_features=4096, out_features=4096, bias=False)\n",
      "          (o_proj): Linear(in_features=4096, out_features=4096, bias=False)\n",
      "          (rotary_emb): LlamaRotaryEmbedding()\n",
      "        )\n",
      "        (mlp): LlamaMLP(\n",
      "          (gate_proj): Linear(in_features=4096, out_features=11008, bias=False)\n",
      "          (up_proj): Linear(in_features=4096, out_features=11008, bias=False)\n",
      "          (down_proj): Linear(in_features=11008, out_features=4096, bias=False)\n",
      "          (act_fn): SiLU()\n",
      "        )\n",
      "        (input_layernorm): LlamaRMSNorm()\n",
      "        (post_attention_layernorm): LlamaRMSNorm()\n",
      "      )\n",
      "    )\n",
      "    (norm): LlamaRMSNorm()\n",
      "  )\n",
      "  (lm_head): LinearWrapper(\n",
      "    (layer): Linear(in_features=4096, out_features=32000, bias=False)\n",
      "    (new_embeddings): Linear(in_features=4096, out_features=1, bias=True)\n",
      "  )\n",
      ")\n"
     ]
    }
   ],
   "source": [
    "## conventionally you'd do this like this:\n",
    "#model.resize_token_embeddings(len(tokenizer))\n",
    "\n",
    "## ours\n",
    "model.model.embed_tokens = EmbeddingWrapper(model.model.embed_tokens, len(tokenizer))\n",
    "model.lm_head = LinearWrapper(model.lm_head, len(tokenizer))\n",
    "print(model)"
   ]
  },
  {
   "cell_type": "code",
   "execution_count": 8,
   "metadata": {},
   "outputs": [
    {
     "name": "stdout",
     "output_type": "stream",
     "text": [
      "32000\n"
     ]
    }
   ],
   "source": [
    "print(pause_token_id)"
   ]
  },
  {
   "cell_type": "code",
   "execution_count": 9,
   "metadata": {},
   "outputs": [
    {
     "name": "stdout",
     "output_type": "stream",
     "text": [
      "w/o 1 <s> w 1 <s>\n",
      "w/o 450 The w 450 The\n",
      "skipping pause token...\n",
      "w/o 4996 quick w 4996 quick\n",
      "skipping pause token...\n",
      "w/o 17354 brown w 17354 brown\n",
      "skipping pause token...\n",
      "w/o 1701 fo w 1701 fo\n",
      "w/o 29916 x w 29916 x\n",
      "w/o 432 j w 432 j\n",
      "w/o 17204 umps w 17204 umps\n",
      "w/o 975 over w 975 over\n",
      "w/o 278 the w 278 the\n",
      "w/o 17366 lazy w 17366 lazy\n",
      "w/o 11203 dog w 11203 dog\n"
     ]
    }
   ],
   "source": [
    "# test\n",
    "toks1 = tokenizer.encode('The<|pause|> quick<|pause|> brown <|pause|> fox jumps over the lazy dog', return_tensors='pt')\n",
    "toks2 = tokenizer.encode('The quick brown fox jumps over the lazy dog', return_tensors='pt')\n",
    "idx2 = 0\n",
    "for idx1 in range(len(toks1[0])):\n",
    "    if toks1[0, idx1].item() != pause_token_id:\n",
    "        print('w/o', toks2[0, idx2].item(), tokenizer.decode([toks2[0, idx2]]), 'w', toks1[0, idx1].item(), tokenizer.decode([toks1[0, idx1]]))\n",
    "        assert toks2[0, idx2] == toks1[0, idx1]\n",
    "        idx2 += 1\n",
    "    else:\n",
    "        print('skipping pause token...')"
   ]
  },
  {
   "cell_type": "code",
   "execution_count": 10,
   "metadata": {},
   "outputs": [
    {
     "name": "stderr",
     "output_type": "stream",
     "text": [
      "/dlabdata1/wendler/.rlllm/lib/python3.11/site-packages/transformers/generation/utils.py:1460: UserWarning: You are calling .generate() with the `input_ids` being on a device type different than your model's device. `input_ids` is on cpu, whereas the model is on cuda. You may experience unexpected behaviors or slower generation. Please make sure that you have put `input_ids` to the correct device by calling for example input_ids = input_ids.to('cuda') before running `.generate()`.\n",
      "  warnings.warn(\n"
     ]
    }
   ],
   "source": [
    "out = model.generate(tokenizer.encode('The<|pause|> quick<|pause|> brown <|pause|> fox jumps over the lazy dog', return_tensors='pt'), max_length=50, num_return_sequences=1, pad_token_id=tokenizer.eos_token_id)"
   ]
  },
  {
   "cell_type": "code",
   "execution_count": 11,
   "metadata": {},
   "outputs": [
    {
     "data": {
      "text/plain": [
       "'The quick brown fox jumps over the lazy dog to the other side of the river, to get over the other side of the sea.\\nThe Lazy Dog, a local dog walking company, has been fined £'"
      ]
     },
     "execution_count": 11,
     "metadata": {},
     "output_type": "execute_result"
    }
   ],
   "source": [
    "tokenizer.decode(out[0], skip_special_tokens=True)"
   ]
  },
  {
   "cell_type": "code",
   "execution_count": 12,
   "metadata": {},
   "outputs": [
    {
     "data": {
      "text/plain": [
       "'<s> The<|pause|> quick<|pause|> brown<|pause|> fox jumps over the lazy dog to the other side of the river, to get over the other side of the sea.\\nThe Lazy Dog, a local dog walking company, has been fined £'"
      ]
     },
     "execution_count": 12,
     "metadata": {},
     "output_type": "execute_result"
    }
   ],
   "source": [
    "tokenizer.decode(out[0], skip_special_tokens=False)"
   ]
  },
  {
   "cell_type": "code",
   "execution_count": 15,
   "metadata": {},
   "outputs": [],
   "source": [
    "model.save_pretrained('/dlabscratch1/tmp/llama2_test/')"
   ]
  },
  {
   "cell_type": "code",
   "execution_count": 16,
   "metadata": {},
   "outputs": [
    {
     "data": {
      "application/vnd.jupyter.widget-view+json": {
       "model_id": "c6c1f0702f1c43ffb0a439f06049439d",
       "version_major": 2,
       "version_minor": 0
      },
      "text/plain": [
       "Loading checkpoint shards:   0%|          | 0/3 [00:00<?, ?it/s]"
      ]
     },
     "metadata": {},
     "output_type": "display_data"
    },
    {
     "name": "stderr",
     "output_type": "stream",
     "text": [
      "Some weights of the model checkpoint at /dlabscratch1/tmp/llama2_test/ were not used when initializing LlamaForCausalLM: ['lm_head.layer.weight', 'lm_head.new_embeddings.bias', 'lm_head.new_embeddings.weight', 'model.embed_tokens.new_embeddings.weight', 'model.embed_tokens.old_embeddings.weight']\n",
      "- This IS expected if you are initializing LlamaForCausalLM from the checkpoint of a model trained on another task or with another architecture (e.g. initializing a BertForSequenceClassification model from a BertForPreTraining model).\n",
      "- This IS NOT expected if you are initializing LlamaForCausalLM from the checkpoint of a model that you expect to be exactly identical (initializing a BertForSequenceClassification model from a BertForSequenceClassification model).\n",
      "Some weights of LlamaForCausalLM were not initialized from the model checkpoint at /dlabscratch1/tmp/llama2_test/ and are newly initialized: ['lm_head.weight', 'model.embed_tokens.weight']\n",
      "You should probably TRAIN this model on a down-stream task to be able to use it for predictions and inference.\n"
     ]
    }
   ],
   "source": [
    "model2 = AutoModelForCausalLM.from_pretrained('/dlabscratch1/tmp/llama2_test/', torch_dtype=torch.float16)"
   ]
  }
 ],
 "metadata": {
  "kernelspec": {
   "display_name": "Python 3",
   "language": "python",
   "name": "python3"
  },
  "language_info": {
   "codemirror_mode": {
    "name": "ipython",
    "version": 3
   },
   "file_extension": ".py",
   "mimetype": "text/x-python",
   "name": "python",
   "nbconvert_exporter": "python",
   "pygments_lexer": "ipython3",
   "version": "3.11.8"
  },
  "orig_nbformat": 4
 },
 "nbformat": 4,
 "nbformat_minor": 2
}
